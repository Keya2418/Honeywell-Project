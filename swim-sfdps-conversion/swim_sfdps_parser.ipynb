{
 "cells": [
  {
   "cell_type": "code",
   "execution_count": 1,
   "metadata": {},
   "outputs": [],
   "source": [
    "import pandas as pd\n",
    "import xml.etree.ElementTree as ET\n",
    "import re"
   ]
  },
  {
   "cell_type": "code",
   "execution_count": 116,
   "metadata": {},
   "outputs": [],
   "source": [
    "# https://portal.swim.faa.gov/subscriptions/f1767041-a42e-4ccf-880f-550f50ddb60d/details\n",
    "file_name = 'sample-data-1-8-24.xml'\n",
    "root = ET.parse(file_name).getroot()\n",
    "\n",
    "letter_only_regex = re.compile(\"[a-zA-Z]*\")\n",
    "\n",
    "def getIndexedName(colName: str, row_dict: list):\n",
    "  nameList = list(row_dict.keys())\n",
    "  index_regex = colName + '\\[\\d\\]$'\n",
    "  index_regex = re.compile(index_regex)\n",
    "  if colName in nameList:\n",
    "    indexes = list(filter(index_regex.match, nameList))\n",
    "    return f\"{colName}[{len(indexes) + 1}]\"\n",
    "  return colName\n",
    "\n",
    "def parseNode(node, pathToNode: str, row_dict: dict):\n",
    "  path = \"_\".join([pathToNode, node.tag]) if len(pathToNode) else node.tag\n",
    "  path = getIndexedName(path, row_dict)\n",
    "  if node.attrib:\n",
    "    for attr, val in node.attrib.items():\n",
    "        # Attributes sometimes contain links, which we don't want\n",
    "        if re.search(letter_only_regex, attr).group() == attr:\n",
    "          colName = \".\".join([path, attr])\n",
    "          # ADD COLUMNS AND VALUES TO DICT\n",
    "          row_dict[colName] = val\n",
    "  if len(node):\n",
    "    for child in node:\n",
    "      parseNode(child, path, row_dict)\n",
    "  else:\n",
    "    text = node.text if node.text else \"NaN\"\n",
    "    colName = path\n",
    "    colName = getIndexedName(colName, row_dict)\n",
    "    row_dict[colName] = text"
   ]
  },
  {
   "cell_type": "code",
   "execution_count": 119,
   "metadata": {},
   "outputs": [],
   "source": [
    "rows =[]\n",
    "\n",
    "for i, message in enumerate(root.findall('message')):\n",
    "  row_dict = {}\n",
    "  parseNode(message, \"\", row_dict)\n",
    "  rows.append(row_dict)"
   ]
  },
  {
   "cell_type": "code",
   "execution_count": 122,
   "metadata": {},
   "outputs": [],
   "source": [
    "df = pd.DataFrame(rows)\n",
    "csv_name = f\"{file_name[:-4]}.csv\"\n",
    "df.to_csv(csv_name)"
   ]
  }
 ],
 "metadata": {
  "kernelspec": {
   "display_name": "Python 3 (ipykernel)",
   "language": "python",
   "name": "python3"
  },
  "language_info": {
   "codemirror_mode": {
    "name": "ipython",
    "version": 3
   },
   "file_extension": ".py",
   "mimetype": "text/x-python",
   "name": "python",
   "nbconvert_exporter": "python",
   "pygments_lexer": "ipython3",
   "version": "3.10.9"
  }
 },
 "nbformat": 4,
 "nbformat_minor": 4
}
