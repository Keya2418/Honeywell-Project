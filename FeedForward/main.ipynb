{
 "cells": [
  {
   "cell_type": "code",
   "execution_count": null,
   "id": "initial_id",
   "metadata": {},
   "outputs": [],
   "source": []
  },
  {
   "cell_type": "markdown",
   "id": "6c5c8357",
   "metadata": {},
   "source": []
  },
  {
   "cell_type": "code",
   "execution_count": 1,
   "id": "bcb88b5562495a79",
   "metadata": {
    "collapsed": false,
    "jupyter": {
     "outputs_hidden": false
    }
   },
   "outputs": [
    {
     "ename": "ModuleNotFoundError",
     "evalue": "No module named 'tensorflow'",
     "output_type": "error",
     "traceback": [
      "\u001b[1;31m---------------------------------------------------------------------------\u001b[0m",
      "\u001b[1;31mModuleNotFoundError\u001b[0m                       Traceback (most recent call last)",
      "Cell \u001b[1;32mIn[1], line 6\u001b[0m\n\u001b[0;32m      4\u001b[0m \u001b[38;5;28;01mfrom\u001b[39;00m \u001b[38;5;21;01msklearn\u001b[39;00m\u001b[38;5;21;01m.\u001b[39;00m\u001b[38;5;21;01mmodel_selection\u001b[39;00m \u001b[38;5;28;01mimport\u001b[39;00m train_test_split\n\u001b[0;32m      5\u001b[0m \u001b[38;5;28;01mfrom\u001b[39;00m \u001b[38;5;21;01msklearn\u001b[39;00m\u001b[38;5;21;01m.\u001b[39;00m\u001b[38;5;21;01mpreprocessing\u001b[39;00m \u001b[38;5;28;01mimport\u001b[39;00m StandardScaler\n\u001b[1;32m----> 6\u001b[0m \u001b[38;5;28;01mfrom\u001b[39;00m \u001b[38;5;21;01mtensorflow\u001b[39;00m\u001b[38;5;21;01m.\u001b[39;00m\u001b[38;5;21;01mkeras\u001b[39;00m\u001b[38;5;21;01m.\u001b[39;00m\u001b[38;5;21;01mmodels\u001b[39;00m \u001b[38;5;28;01mimport\u001b[39;00m Sequential\n\u001b[0;32m      7\u001b[0m \u001b[38;5;28;01mfrom\u001b[39;00m \u001b[38;5;21;01mtensorflow\u001b[39;00m\u001b[38;5;21;01m.\u001b[39;00m\u001b[38;5;21;01mkeras\u001b[39;00m\u001b[38;5;21;01m.\u001b[39;00m\u001b[38;5;21;01mlayers\u001b[39;00m \u001b[38;5;28;01mimport\u001b[39;00m Dense\n\u001b[0;32m      8\u001b[0m \u001b[38;5;28;01mimport\u001b[39;00m \u001b[38;5;21;01mnumpy\u001b[39;00m \u001b[38;5;28;01mas\u001b[39;00m \u001b[38;5;21;01mnp\u001b[39;00m\n",
      "\u001b[1;31mModuleNotFoundError\u001b[0m: No module named 'tensorflow'"
     ]
    }
   ],
   "source": [
    "import os\n",
    "import pandas as pd\n",
    "import matplotlib.pyplot as plt\n",
    "from sklearn.model_selection import train_test_split\n",
    "from sklearn.preprocessing import StandardScaler\n",
    "from tensorflow.keras.models import Sequential\n",
    "from tensorflow.keras.layers import Dense\n",
    "import numpy as np\n",
    "\n",
    "def load_data(directory, file_name):\n",
    "    file_path = os.path.join(directory, file_name)\n",
    "    print(f\"Loading data from {file_path}\")\n",
    "    return pd.read_csv(file_path)\n",
    "\n",
    "def build_model(input_shape, output_shape):     # Has to be implemented\n",
    "    model = Sequential([\n",
    "        Dense(64, activation='relu', input_shape=(input_shape,)),\n",
    "        Dense(64, activation='relu'),\n",
    "        Dense(output_shape)\n",
    "    ])\n",
    "    model.compile(optimizer='adam', loss='mse', metrics=['mae'])\n",
    "    return model\n",
    "\n",
    "def train_model(model, X_train, y_train, X_test, y_test):     # Has to be implemented\n",
    "    model.fit(X_train, y_train, epochs=100, batch_size=34, validation_data=(X_test, y_test))\n",
    "\n",
    "def evaluate_model(model, X_test, y_test):                  # Has to be implemented\n",
    "    loss, mae = model.evaluate(X_test, y_test)\n",
    "    print(f'Test Loss: {loss}, Test MAE: {mae}')\n",
    "\n",
    "\n",
    "def get_file_pairs(directory):\n",
    "    flight_files = []\n",
    "    waypoint_files = []\n",
    "\n",
    "    for file_name in os.listdir(directory):\n",
    "        if file_name.endswith(\".csv\"):\n",
    "            if \"WAYPOINTS\" in file_name:\n",
    "                waypoint_files.append(file_name)\n",
    "            else:\n",
    "                flight_files.append(file_name)\n",
    "\n",
    "    return sorted(flight_files), sorted(waypoint_files)\n",
    "\n",
    "# Load flight and waypoint data directories\n",
    "waypoint_data_dir = \"scraped_data_waypoints_KPHX_KLAS\"\n",
    "flight_data_dir = \"scraped_data_KPHX_KLAS\"\n",
    "\n",
    "# List flight and waypoint files\n",
    "waypoint_files = sorted(os.listdir(waypoint_data_dir))\n",
    "flight_files = sorted(os.listdir(flight_data_dir))\n",
    "\n",
    "print(\"Waypoint Files:\", waypoint_files)\n",
    "print(\"Flight Files:\", flight_files)\n",
    "\n",
    "# Process each pair of flight and waypoint files\n",
    "for flight_file, waypoint_file in zip(flight_files, waypoint_files):\n",
    "    print(f\"Processing {flight_file} and {waypoint_file}...\")\n",
    "\n",
    "    # Load flight data and waypoints\n",
    "    flight_data = load_data(flight_data_dir, flight_file)\n",
    "    waypoints = load_data(waypoint_data_dir, waypoint_file)\n",
    "\n",
    "    print(\"Flight Data:\")\n",
    "    print(flight_data.head())\n",
    "\n",
    "    print(\"Waypoints:\")\n",
    "    print(waypoints.head())\n",
    "\n",
    "    # Drop rows with NaN values in 'Time (EST)' and 'feet' columns\n",
    "    flight_data.dropna(subset=['Time (EST)', 'feet'], inplace=True)\n",
    "    \n",
    "    # Convert 'feet' column to strings\n",
    "    flight_data['feet_str'] = flight_data['feet'].astype(str)\n",
    "    \n",
    "    print(flight_data.head())\n",
    "    \n",
    "    # Convert 'feet' column to numeric\n",
    "    flight_data['feet'] = flight_data['feet'].str.replace(',', '').astype(float)\n",
    "    \n",
    "    # Convert 'Time (EST)' column to datetime format with explicit format\n",
    "    flight_data['Time (EST)'] = pd.to_datetime(flight_data['Time (EST)'], format='%a %H:%M:%S %p')\n",
    "    \n",
    "    # Extract hour and minute components from the 'Time (EST)' column in 24-hour format\n",
    "    flight_data['Hour_Minute'] = flight_data['Time (EST)'].dt.strftime('%H:%M')\n",
    "    \n",
    "    print(\"Original Flight Altitude vs Time graph: \")\n",
    "    # Plot altitude vs time using a line plot\n",
    "    plt.figure(figsize=(10, 5))\n",
    "    plt.plot(flight_data['Hour_Minute'], flight_data['feet'], color='blue')\n",
    "    plt.title('Altitude vs Time')\n",
    "    plt.xlabel('Time of the Day (Hour:Minute)')\n",
    "    plt.ylabel('Altitude (feet)')\n",
    "    plt.grid(True)\n",
    "    plt.show()\n",
    "    \n",
    "    # Plot Latitude vs Longitude using a line plot\n",
    "    plt.figure(figsize=(5, 5))\n",
    "    plt.plot(waypoints['Latitude'], waypoints['Longitude'], color='red')\n",
    "    plt.title('Latitude vs Longitude')\n",
    "    plt.xlabel('Longitude (Degrees)')\n",
    "    plt.ylabel('Latitude (Degrees)')\n",
    "    plt.grid(True)\n",
    "    plt.show()\n",
    "    \n"
   ]
  },
  {
   "cell_type": "code",
   "execution_count": null,
   "id": "a14aba116cc8c3fa",
   "metadata": {
    "collapsed": false,
    "jupyter": {
     "outputs_hidden": false
    }
   },
   "outputs": [],
   "source": []
  }
 ],
 "metadata": {
  "kernelspec": {
   "display_name": "Python 3 (ipykernel)",
   "language": "python",
   "name": "python3"
  },
  "language_info": {
   "codemirror_mode": {
    "name": "ipython",
    "version": 3
   },
   "file_extension": ".py",
   "mimetype": "text/x-python",
   "name": "python",
   "nbconvert_exporter": "python",
   "pygments_lexer": "ipython3",
   "version": "3.10.9"
  }
 },
 "nbformat": 4,
 "nbformat_minor": 5
}
